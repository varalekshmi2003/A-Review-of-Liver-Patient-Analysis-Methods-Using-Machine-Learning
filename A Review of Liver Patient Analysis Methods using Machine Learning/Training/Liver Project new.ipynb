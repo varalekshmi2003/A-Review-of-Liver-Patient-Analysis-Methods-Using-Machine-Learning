{
 "cells": [
  {
   "cell_type": "code",
   "execution_count": 1,
   "id": "b0d4a12e",
   "metadata": {},
   "outputs": [],
   "source": [
    "import pandas as pd\n",
    "import numpy as np\n",
    "import seaborn as sns\n",
    "import matplotlib.pyplot as plt\n",
    "from matplotlib import rcParams\n",
    "import scipy\n",
    "from scipy import stats\n"
   ]
  },
  {
   "cell_type": "code",
   "execution_count": 2,
   "id": "7ebb71d3",
   "metadata": {},
   "outputs": [],
   "source": [
    "data=pd.read_csv('C:/Users/ELCOT/anaconda3/indian_liver_patient.csv')"
   ]
  },
  {
   "cell_type": "code",
   "execution_count": 3,
   "id": "963383a4",
   "metadata": {},
   "outputs": [
    {
     "data": {
      "text/html": [
       "<div>\n",
       "<style scoped>\n",
       "    .dataframe tbody tr th:only-of-type {\n",
       "        vertical-align: middle;\n",
       "    }\n",
       "\n",
       "    .dataframe tbody tr th {\n",
       "        vertical-align: top;\n",
       "    }\n",
       "\n",
       "    .dataframe thead th {\n",
       "        text-align: right;\n",
       "    }\n",
       "</style>\n",
       "<table border=\"1\" class=\"dataframe\">\n",
       "  <thead>\n",
       "    <tr style=\"text-align: right;\">\n",
       "      <th></th>\n",
       "      <th>Age</th>\n",
       "      <th>Gender</th>\n",
       "      <th>Total_Bilirubin</th>\n",
       "      <th>Direct_Bilirubin</th>\n",
       "      <th>Alkaline_Phosphotase</th>\n",
       "      <th>Alamine_Aminotransferase</th>\n",
       "      <th>Aspartate_Aminotransferase</th>\n",
       "      <th>Total_Protiens</th>\n",
       "      <th>Albumin</th>\n",
       "      <th>Albumin_and_Globulin_Ratio</th>\n",
       "      <th>Dataset</th>\n",
       "    </tr>\n",
       "  </thead>\n",
       "  <tbody>\n",
       "    <tr>\n",
       "      <th>0</th>\n",
       "      <td>65</td>\n",
       "      <td>Female</td>\n",
       "      <td>0.7</td>\n",
       "      <td>0.1</td>\n",
       "      <td>187</td>\n",
       "      <td>16</td>\n",
       "      <td>18</td>\n",
       "      <td>6.8</td>\n",
       "      <td>3.3</td>\n",
       "      <td>0.90</td>\n",
       "      <td>1</td>\n",
       "    </tr>\n",
       "    <tr>\n",
       "      <th>1</th>\n",
       "      <td>62</td>\n",
       "      <td>Male</td>\n",
       "      <td>10.9</td>\n",
       "      <td>5.5</td>\n",
       "      <td>699</td>\n",
       "      <td>64</td>\n",
       "      <td>100</td>\n",
       "      <td>7.5</td>\n",
       "      <td>3.2</td>\n",
       "      <td>0.74</td>\n",
       "      <td>1</td>\n",
       "    </tr>\n",
       "    <tr>\n",
       "      <th>2</th>\n",
       "      <td>62</td>\n",
       "      <td>Male</td>\n",
       "      <td>7.3</td>\n",
       "      <td>4.1</td>\n",
       "      <td>490</td>\n",
       "      <td>60</td>\n",
       "      <td>68</td>\n",
       "      <td>7.0</td>\n",
       "      <td>3.3</td>\n",
       "      <td>0.89</td>\n",
       "      <td>1</td>\n",
       "    </tr>\n",
       "    <tr>\n",
       "      <th>3</th>\n",
       "      <td>58</td>\n",
       "      <td>Male</td>\n",
       "      <td>1.0</td>\n",
       "      <td>0.4</td>\n",
       "      <td>182</td>\n",
       "      <td>14</td>\n",
       "      <td>20</td>\n",
       "      <td>6.8</td>\n",
       "      <td>3.4</td>\n",
       "      <td>1.00</td>\n",
       "      <td>1</td>\n",
       "    </tr>\n",
       "    <tr>\n",
       "      <th>4</th>\n",
       "      <td>72</td>\n",
       "      <td>Male</td>\n",
       "      <td>3.9</td>\n",
       "      <td>2.0</td>\n",
       "      <td>195</td>\n",
       "      <td>27</td>\n",
       "      <td>59</td>\n",
       "      <td>7.3</td>\n",
       "      <td>2.4</td>\n",
       "      <td>0.40</td>\n",
       "      <td>1</td>\n",
       "    </tr>\n",
       "  </tbody>\n",
       "</table>\n",
       "</div>"
      ],
      "text/plain": [
       "   Age  Gender  Total_Bilirubin  Direct_Bilirubin  Alkaline_Phosphotase  \\\n",
       "0   65  Female              0.7               0.1                   187   \n",
       "1   62    Male             10.9               5.5                   699   \n",
       "2   62    Male              7.3               4.1                   490   \n",
       "3   58    Male              1.0               0.4                   182   \n",
       "4   72    Male              3.9               2.0                   195   \n",
       "\n",
       "   Alamine_Aminotransferase  Aspartate_Aminotransferase  Total_Protiens  \\\n",
       "0                        16                          18             6.8   \n",
       "1                        64                         100             7.5   \n",
       "2                        60                          68             7.0   \n",
       "3                        14                          20             6.8   \n",
       "4                        27                          59             7.3   \n",
       "\n",
       "   Albumin  Albumin_and_Globulin_Ratio  Dataset  \n",
       "0      3.3                        0.90        1  \n",
       "1      3.2                        0.74        1  \n",
       "2      3.3                        0.89        1  \n",
       "3      3.4                        1.00        1  \n",
       "4      2.4                        0.40        1  "
      ]
     },
     "execution_count": 3,
     "metadata": {},
     "output_type": "execute_result"
    }
   ],
   "source": [
    "data.head()"
   ]
  },
  {
   "cell_type": "code",
   "execution_count": 4,
   "id": "db3ff6bd",
   "metadata": {},
   "outputs": [
    {
     "name": "stdout",
     "output_type": "stream",
     "text": [
      "<class 'pandas.core.frame.DataFrame'>\n",
      "RangeIndex: 583 entries, 0 to 582\n",
      "Data columns (total 11 columns):\n",
      " #   Column                      Non-Null Count  Dtype  \n",
      "---  ------                      --------------  -----  \n",
      " 0   Age                         583 non-null    int64  \n",
      " 1   Gender                      583 non-null    object \n",
      " 2   Total_Bilirubin             583 non-null    float64\n",
      " 3   Direct_Bilirubin            583 non-null    float64\n",
      " 4   Alkaline_Phosphotase        583 non-null    int64  \n",
      " 5   Alamine_Aminotransferase    583 non-null    int64  \n",
      " 6   Aspartate_Aminotransferase  583 non-null    int64  \n",
      " 7   Total_Protiens              583 non-null    float64\n",
      " 8   Albumin                     583 non-null    float64\n",
      " 9   Albumin_and_Globulin_Ratio  579 non-null    float64\n",
      " 10  Dataset                     583 non-null    int64  \n",
      "dtypes: float64(5), int64(5), object(1)\n",
      "memory usage: 50.2+ KB\n"
     ]
    }
   ],
   "source": [
    "data.info()"
   ]
  },
  {
   "cell_type": "code",
   "execution_count": 5,
   "id": "7b2d4569",
   "metadata": {},
   "outputs": [
    {
     "data": {
      "text/plain": [
       "Age                           False\n",
       "Gender                        False\n",
       "Total_Bilirubin               False\n",
       "Direct_Bilirubin              False\n",
       "Alkaline_Phosphotase          False\n",
       "Alamine_Aminotransferase      False\n",
       "Aspartate_Aminotransferase    False\n",
       "Total_Protiens                False\n",
       "Albumin                       False\n",
       "Albumin_and_Globulin_Ratio     True\n",
       "Dataset                       False\n",
       "dtype: bool"
      ]
     },
     "execution_count": 5,
     "metadata": {},
     "output_type": "execute_result"
    }
   ],
   "source": [
    "data.isnull().any()"
   ]
  },
  {
   "cell_type": "code",
   "execution_count": 6,
   "id": "15059a78",
   "metadata": {},
   "outputs": [
    {
     "data": {
      "text/plain": [
       "Age                           0\n",
       "Gender                        0\n",
       "Total_Bilirubin               0\n",
       "Direct_Bilirubin              0\n",
       "Alkaline_Phosphotase          0\n",
       "Alamine_Aminotransferase      0\n",
       "Aspartate_Aminotransferase    0\n",
       "Total_Protiens                0\n",
       "Albumin                       0\n",
       "Albumin_and_Globulin_Ratio    4\n",
       "Dataset                       0\n",
       "dtype: int64"
      ]
     },
     "execution_count": 6,
     "metadata": {},
     "output_type": "execute_result"
    }
   ],
   "source": [
    "data.isnull().sum()"
   ]
  },
  {
   "cell_type": "code",
   "execution_count": 7,
   "id": "9e21e92e",
   "metadata": {},
   "outputs": [
    {
     "data": {
      "text/plain": [
       "0.9470639032815197"
      ]
     },
     "execution_count": 7,
     "metadata": {},
     "output_type": "execute_result"
    }
   ],
   "source": [
    "data['Albumin_and_Globulin_Ratio'].mean()"
   ]
  },
  {
   "cell_type": "code",
   "execution_count": 8,
   "id": "a92b9ecf",
   "metadata": {},
   "outputs": [],
   "source": [
    "data=data.fillna(0.94)"
   ]
  },
  {
   "cell_type": "code",
   "execution_count": 9,
   "id": "a369ff2c",
   "metadata": {},
   "outputs": [
    {
     "data": {
      "text/plain": [
       "Age                           0\n",
       "Gender                        0\n",
       "Total_Bilirubin               0\n",
       "Direct_Bilirubin              0\n",
       "Alkaline_Phosphotase          0\n",
       "Alamine_Aminotransferase      0\n",
       "Aspartate_Aminotransferase    0\n",
       "Total_Protiens                0\n",
       "Albumin                       0\n",
       "Albumin_and_Globulin_Ratio    0\n",
       "Dataset                       0\n",
       "dtype: int64"
      ]
     },
     "execution_count": 9,
     "metadata": {},
     "output_type": "execute_result"
    }
   ],
   "source": [
    "data.isnull().sum()"
   ]
  },
  {
   "cell_type": "code",
   "execution_count": 10,
   "id": "39488456",
   "metadata": {},
   "outputs": [],
   "source": [
    "from sklearn.preprocessing import LabelEncoder\n",
    "lc=LabelEncoder()\n",
    "data['Gender']=lc.fit_transform(data['Gender'])"
   ]
  },
  {
   "cell_type": "code",
   "execution_count": 11,
   "id": "815e68a1",
   "metadata": {},
   "outputs": [
    {
     "data": {
      "text/html": [
       "<div>\n",
       "<style scoped>\n",
       "    .dataframe tbody tr th:only-of-type {\n",
       "        vertical-align: middle;\n",
       "    }\n",
       "\n",
       "    .dataframe tbody tr th {\n",
       "        vertical-align: top;\n",
       "    }\n",
       "\n",
       "    .dataframe thead th {\n",
       "        text-align: right;\n",
       "    }\n",
       "</style>\n",
       "<table border=\"1\" class=\"dataframe\">\n",
       "  <thead>\n",
       "    <tr style=\"text-align: right;\">\n",
       "      <th></th>\n",
       "      <th>Age</th>\n",
       "      <th>Gender</th>\n",
       "      <th>Total_Bilirubin</th>\n",
       "      <th>Direct_Bilirubin</th>\n",
       "      <th>Alkaline_Phosphotase</th>\n",
       "      <th>Alamine_Aminotransferase</th>\n",
       "      <th>Aspartate_Aminotransferase</th>\n",
       "      <th>Total_Protiens</th>\n",
       "      <th>Albumin</th>\n",
       "      <th>Albumin_and_Globulin_Ratio</th>\n",
       "      <th>Dataset</th>\n",
       "    </tr>\n",
       "  </thead>\n",
       "  <tbody>\n",
       "    <tr>\n",
       "      <th>count</th>\n",
       "      <td>583.000000</td>\n",
       "      <td>583.000000</td>\n",
       "      <td>583.000000</td>\n",
       "      <td>583.000000</td>\n",
       "      <td>583.000000</td>\n",
       "      <td>583.000000</td>\n",
       "      <td>583.000000</td>\n",
       "      <td>583.000000</td>\n",
       "      <td>583.000000</td>\n",
       "      <td>583.000000</td>\n",
       "      <td>583.000000</td>\n",
       "    </tr>\n",
       "    <tr>\n",
       "      <th>mean</th>\n",
       "      <td>44.746141</td>\n",
       "      <td>0.756432</td>\n",
       "      <td>3.298799</td>\n",
       "      <td>1.486106</td>\n",
       "      <td>290.576329</td>\n",
       "      <td>80.713551</td>\n",
       "      <td>109.910806</td>\n",
       "      <td>6.483190</td>\n",
       "      <td>3.141852</td>\n",
       "      <td>0.947015</td>\n",
       "      <td>1.286449</td>\n",
       "    </tr>\n",
       "    <tr>\n",
       "      <th>std</th>\n",
       "      <td>16.189833</td>\n",
       "      <td>0.429603</td>\n",
       "      <td>6.209522</td>\n",
       "      <td>2.808498</td>\n",
       "      <td>242.937989</td>\n",
       "      <td>182.620356</td>\n",
       "      <td>288.918529</td>\n",
       "      <td>1.085451</td>\n",
       "      <td>0.795519</td>\n",
       "      <td>0.318492</td>\n",
       "      <td>0.452490</td>\n",
       "    </tr>\n",
       "    <tr>\n",
       "      <th>min</th>\n",
       "      <td>4.000000</td>\n",
       "      <td>0.000000</td>\n",
       "      <td>0.400000</td>\n",
       "      <td>0.100000</td>\n",
       "      <td>63.000000</td>\n",
       "      <td>10.000000</td>\n",
       "      <td>10.000000</td>\n",
       "      <td>2.700000</td>\n",
       "      <td>0.900000</td>\n",
       "      <td>0.300000</td>\n",
       "      <td>1.000000</td>\n",
       "    </tr>\n",
       "    <tr>\n",
       "      <th>25%</th>\n",
       "      <td>33.000000</td>\n",
       "      <td>1.000000</td>\n",
       "      <td>0.800000</td>\n",
       "      <td>0.200000</td>\n",
       "      <td>175.500000</td>\n",
       "      <td>23.000000</td>\n",
       "      <td>25.000000</td>\n",
       "      <td>5.800000</td>\n",
       "      <td>2.600000</td>\n",
       "      <td>0.700000</td>\n",
       "      <td>1.000000</td>\n",
       "    </tr>\n",
       "    <tr>\n",
       "      <th>50%</th>\n",
       "      <td>45.000000</td>\n",
       "      <td>1.000000</td>\n",
       "      <td>1.000000</td>\n",
       "      <td>0.300000</td>\n",
       "      <td>208.000000</td>\n",
       "      <td>35.000000</td>\n",
       "      <td>42.000000</td>\n",
       "      <td>6.600000</td>\n",
       "      <td>3.100000</td>\n",
       "      <td>0.940000</td>\n",
       "      <td>1.000000</td>\n",
       "    </tr>\n",
       "    <tr>\n",
       "      <th>75%</th>\n",
       "      <td>58.000000</td>\n",
       "      <td>1.000000</td>\n",
       "      <td>2.600000</td>\n",
       "      <td>1.300000</td>\n",
       "      <td>298.000000</td>\n",
       "      <td>60.500000</td>\n",
       "      <td>87.000000</td>\n",
       "      <td>7.200000</td>\n",
       "      <td>3.800000</td>\n",
       "      <td>1.100000</td>\n",
       "      <td>2.000000</td>\n",
       "    </tr>\n",
       "    <tr>\n",
       "      <th>max</th>\n",
       "      <td>90.000000</td>\n",
       "      <td>1.000000</td>\n",
       "      <td>75.000000</td>\n",
       "      <td>19.700000</td>\n",
       "      <td>2110.000000</td>\n",
       "      <td>2000.000000</td>\n",
       "      <td>4929.000000</td>\n",
       "      <td>9.600000</td>\n",
       "      <td>5.500000</td>\n",
       "      <td>2.800000</td>\n",
       "      <td>2.000000</td>\n",
       "    </tr>\n",
       "  </tbody>\n",
       "</table>\n",
       "</div>"
      ],
      "text/plain": [
       "              Age      Gender  Total_Bilirubin  Direct_Bilirubin  \\\n",
       "count  583.000000  583.000000       583.000000        583.000000   \n",
       "mean    44.746141    0.756432         3.298799          1.486106   \n",
       "std     16.189833    0.429603         6.209522          2.808498   \n",
       "min      4.000000    0.000000         0.400000          0.100000   \n",
       "25%     33.000000    1.000000         0.800000          0.200000   \n",
       "50%     45.000000    1.000000         1.000000          0.300000   \n",
       "75%     58.000000    1.000000         2.600000          1.300000   \n",
       "max     90.000000    1.000000        75.000000         19.700000   \n",
       "\n",
       "       Alkaline_Phosphotase  Alamine_Aminotransferase  \\\n",
       "count            583.000000                583.000000   \n",
       "mean             290.576329                 80.713551   \n",
       "std              242.937989                182.620356   \n",
       "min               63.000000                 10.000000   \n",
       "25%              175.500000                 23.000000   \n",
       "50%              208.000000                 35.000000   \n",
       "75%              298.000000                 60.500000   \n",
       "max             2110.000000               2000.000000   \n",
       "\n",
       "       Aspartate_Aminotransferase  Total_Protiens     Albumin  \\\n",
       "count                  583.000000      583.000000  583.000000   \n",
       "mean                   109.910806        6.483190    3.141852   \n",
       "std                    288.918529        1.085451    0.795519   \n",
       "min                     10.000000        2.700000    0.900000   \n",
       "25%                     25.000000        5.800000    2.600000   \n",
       "50%                     42.000000        6.600000    3.100000   \n",
       "75%                     87.000000        7.200000    3.800000   \n",
       "max                   4929.000000        9.600000    5.500000   \n",
       "\n",
       "       Albumin_and_Globulin_Ratio     Dataset  \n",
       "count                  583.000000  583.000000  \n",
       "mean                     0.947015    1.286449  \n",
       "std                      0.318492    0.452490  \n",
       "min                      0.300000    1.000000  \n",
       "25%                      0.700000    1.000000  \n",
       "50%                      0.940000    1.000000  \n",
       "75%                      1.100000    2.000000  \n",
       "max                      2.800000    2.000000  "
      ]
     },
     "execution_count": 11,
     "metadata": {},
     "output_type": "execute_result"
    }
   ],
   "source": [
    "data.describe()"
   ]
  },
  {
   "cell_type": "code",
   "execution_count": 12,
   "id": "52dfe12e",
   "metadata": {},
   "outputs": [
    {
     "name": "stderr",
     "output_type": "stream",
     "text": [
      "C:\\Users\\ELCOT\\AppData\\Local\\Temp\\ipykernel_15280\\3432825448.py:1: UserWarning: \n",
      "\n",
      "`distplot` is a deprecated function and will be removed in seaborn v0.14.0.\n",
      "\n",
      "Please adapt your code to use either `displot` (a figure-level function with\n",
      "similar flexibility) or `histplot` (an axes-level function for histograms).\n",
      "\n",
      "For a guide to updating your code to use the new functions, please see\n",
      "https://gist.github.com/mwaskom/de44147ed2974457ad6372750bbe5751\n",
      "\n",
      "  sns.distplot(data['Age'])\n"
     ]
    },
    {
     "data": {
      "image/png": "[encoded data removed]",
      "text/plain": [
       "<Figure size 640x480 with 1 Axes>"
      ]
     },
     "metadata": {},
     "output_type": "display_data"
    }
   ],
   "source": [
    "sns.distplot(data['Age'])\n",
    "plt.title('Age Distribution graph')\n",
    "plt.show()"
   ]
  },
  {
   "cell_type": "code",
   "execution_count": 13,
   "id": "9065a919",
   "metadata": {},
   "outputs": [
    {
     "data": {
      "text/plain": [
       "<Axes: xlabel='Gender', ylabel='count'>"
      ]
     },
     "execution_count": 13,
     "metadata": {},
     "output_type": "execute_result"
    },
    {
     "data": {
      "image/png": "[encoded data removed]",
      "text/plain": [
       "<Figure size 500x500 with 1 Axes>"
      ]
     },
     "metadata": {},
     "output_type": "display_data"
    }
   ],
   "source": [
    "plt.figure(figsize=(5,5))\n",
    "sns.countplot(x='Gender', data=data)"
   ]
  },
  {
   "cell_type": "code",
   "execution_count": 14,
   "id": "1385ef70",
   "metadata": {},
   "outputs": [
    {
     "data": {
      "text/plain": [
       "<Axes: >"
      ]
     },
     "execution_count": 14,
     "metadata": {},
     "output_type": "execute_result"
    },
    {
     "data": {
      "image/png": "[encoded data removed]",
      "text/plain": [
       "<Figure size 1000x700 with 2 Axes>"
      ]
     },
     "metadata": {},
     "output_type": "display_data"
    }
   ],
   "source": [
    "plt.figure(figsize=(10,7))\n",
    "sns.heatmap(data.corr(),annot=True)"
   ]
  },
  {
   "cell_type": "code",
   "execution_count": 15,
   "id": "ca5885a7",
   "metadata": {},
   "outputs": [],
   "source": [
    "x=data.iloc[:,:-1]\n",
    "y=data.Dataset"
   ]
  },
  {
   "cell_type": "code",
   "execution_count": 16,
   "id": "c674107d",
   "metadata": {},
   "outputs": [],
   "source": [
    "from sklearn.preprocessing import scale\n",
    "x_scaled=pd.DataFrame(scale(x), columns=x.columns)\n"
   ]
  },
  {
   "cell_type": "code",
   "execution_count": 17,
   "id": "11c0c3ca",
   "metadata": {},
   "outputs": [
    {
     "data": {
      "text/html": [
       "<div>\n",
       "<style scoped>\n",
       "    .dataframe tbody tr th:only-of-type {\n",
       "        vertical-align: middle;\n",
       "    }\n",
       "\n",
       "    .dataframe tbody tr th {\n",
       "        vertical-align: top;\n",
       "    }\n",
       "\n",
       "    .dataframe thead th {\n",
       "        text-align: right;\n",
       "    }\n",
       "</style>\n",
       "<table border=\"1\" class=\"dataframe\">\n",
       "  <thead>\n",
       "    <tr style=\"text-align: right;\">\n",
       "      <th></th>\n",
       "      <th>Age</th>\n",
       "      <th>Gender</th>\n",
       "      <th>Total_Bilirubin</th>\n",
       "      <th>Direct_Bilirubin</th>\n",
       "      <th>Alkaline_Phosphotase</th>\n",
       "      <th>Alamine_Aminotransferase</th>\n",
       "      <th>Aspartate_Aminotransferase</th>\n",
       "      <th>Total_Protiens</th>\n",
       "      <th>Albumin</th>\n",
       "      <th>Albumin_and_Globulin_Ratio</th>\n",
       "    </tr>\n",
       "  </thead>\n",
       "  <tbody>\n",
       "    <tr>\n",
       "      <th>0</th>\n",
       "      <td>1.252098</td>\n",
       "      <td>-1.762281</td>\n",
       "      <td>-0.418878</td>\n",
       "      <td>-0.493964</td>\n",
       "      <td>-0.426715</td>\n",
       "      <td>-0.354665</td>\n",
       "      <td>-0.318393</td>\n",
       "      <td>0.292120</td>\n",
       "      <td>0.198969</td>\n",
       "      <td>-0.147745</td>\n",
       "    </tr>\n",
       "    <tr>\n",
       "      <th>1</th>\n",
       "      <td>1.066637</td>\n",
       "      <td>0.567446</td>\n",
       "      <td>1.225171</td>\n",
       "      <td>1.430423</td>\n",
       "      <td>1.682629</td>\n",
       "      <td>-0.091599</td>\n",
       "      <td>-0.034333</td>\n",
       "      <td>0.937566</td>\n",
       "      <td>0.073157</td>\n",
       "      <td>-0.650543</td>\n",
       "    </tr>\n",
       "    <tr>\n",
       "      <th>2</th>\n",
       "      <td>1.066637</td>\n",
       "      <td>0.567446</td>\n",
       "      <td>0.644919</td>\n",
       "      <td>0.931508</td>\n",
       "      <td>0.821588</td>\n",
       "      <td>-0.113522</td>\n",
       "      <td>-0.145186</td>\n",
       "      <td>0.476533</td>\n",
       "      <td>0.198969</td>\n",
       "      <td>-0.179170</td>\n",
       "    </tr>\n",
       "    <tr>\n",
       "      <th>3</th>\n",
       "      <td>0.819356</td>\n",
       "      <td>0.567446</td>\n",
       "      <td>-0.370523</td>\n",
       "      <td>-0.387054</td>\n",
       "      <td>-0.447314</td>\n",
       "      <td>-0.365626</td>\n",
       "      <td>-0.311465</td>\n",
       "      <td>0.292120</td>\n",
       "      <td>0.324781</td>\n",
       "      <td>0.166503</td>\n",
       "    </tr>\n",
       "    <tr>\n",
       "      <th>4</th>\n",
       "      <td>1.684839</td>\n",
       "      <td>0.567446</td>\n",
       "      <td>0.096902</td>\n",
       "      <td>0.183135</td>\n",
       "      <td>-0.393756</td>\n",
       "      <td>-0.294379</td>\n",
       "      <td>-0.176363</td>\n",
       "      <td>0.753153</td>\n",
       "      <td>-0.933340</td>\n",
       "      <td>-1.718989</td>\n",
       "    </tr>\n",
       "  </tbody>\n",
       "</table>\n",
       "</div>"
      ],
      "text/plain": [
       "        Age    Gender  Total_Bilirubin  Direct_Bilirubin  \\\n",
       "0  1.252098 -1.762281        -0.418878         -0.493964   \n",
       "1  1.066637  0.567446         1.225171          1.430423   \n",
       "2  1.066637  0.567446         0.644919          0.931508   \n",
       "3  0.819356  0.567446        -0.370523         -0.387054   \n",
       "4  1.684839  0.567446         0.096902          0.183135   \n",
       "\n",
       "   Alkaline_Phosphotase  Alamine_Aminotransferase  Aspartate_Aminotransferase  \\\n",
       "0             -0.426715                 -0.354665                   -0.318393   \n",
       "1              1.682629                 -0.091599                   -0.034333   \n",
       "2              0.821588                 -0.113522                   -0.145186   \n",
       "3             -0.447314                 -0.365626                   -0.311465   \n",
       "4             -0.393756                 -0.294379                   -0.176363   \n",
       "\n",
       "   Total_Protiens   Albumin  Albumin_and_Globulin_Ratio  \n",
       "0        0.292120  0.198969                   -0.147745  \n",
       "1        0.937566  0.073157                   -0.650543  \n",
       "2        0.476533  0.198969                   -0.179170  \n",
       "3        0.292120  0.324781                    0.166503  \n",
       "4        0.753153 -0.933340                   -1.718989  "
      ]
     },
     "execution_count": 17,
     "metadata": {},
     "output_type": "execute_result"
    }
   ],
   "source": [
    "x_scaled.head()"
   ]
  },
  {
   "cell_type": "code",
   "execution_count": 18,
   "id": "d7083a36",
   "metadata": {},
   "outputs": [],
   "source": [
    "from sklearn.model_selection import train_test_split\n",
    "x_train,x_test,y_train,y_test=train_test_split(x_scaled,y,test_size=2, random_state=32)"
   ]
  },
  {
   "cell_type": "code",
   "execution_count": 19,
   "id": "cc75eb7a",
   "metadata": {},
   "outputs": [
    {
     "name": "stdout",
     "output_type": "stream",
     "text": [
      "Note: you may need to restart the kernel to use updated packages.\n"
     ]
    },
    {
     "name": "stderr",
     "output_type": "stream",
     "text": [
      "WARNING: Retrying (Retry(total=4, connect=None, read=None, redirect=None, status=None)) after connection broken by 'NewConnectionError('<pip._vendor.urllib3.connection.HTTPSConnection object at 0x00000232B1DF3B20>: Failed to establish a new connection: [Errno 11001] getaddrinfo failed')': /simple/imblearn/\n",
      "WARNING: Retrying (Retry(total=3, connect=None, read=None, redirect=None, status=None)) after connection broken by 'NewConnectionError('<pip._vendor.urllib3.connection.HTTPSConnection object at 0x00000232B1DF3E20>: Failed to establish a new connection: [Errno 11001] getaddrinfo failed')': /simple/imblearn/\n",
      "WARNING: Retrying (Retry(total=2, connect=None, read=None, redirect=None, status=None)) after connection broken by 'NewConnectionError('<pip._vendor.urllib3.connection.HTTPSConnection object at 0x00000232B1E14310>: Failed to establish a new connection: [Errno 11001] getaddrinfo failed')': /simple/imblearn/\n",
      "WARNING: Retrying (Retry(total=1, connect=None, read=None, redirect=None, status=None)) after connection broken by 'NewConnectionError('<pip._vendor.urllib3.connection.HTTPSConnection object at 0x00000232B1E14340>: Failed to establish a new connection: [Errno 11001] getaddrinfo failed')': /simple/imblearn/\n",
      "WARNING: Retrying (Retry(total=0, connect=None, read=None, redirect=None, status=None)) after connection broken by 'NewConnectionError('<pip._vendor.urllib3.connection.HTTPSConnection object at 0x00000232B1E144F0>: Failed to establish a new connection: [Errno 11001] getaddrinfo failed')': /simple/imblearn/\n",
      "ERROR: Could not find a version that satisfies the requirement imblearn (from versions: none)\n",
      "ERROR: No matching distribution found for imblearn\n",
      "WARNING: There was an error checking the latest version of pip.\n"
     ]
    }
   ],
   "source": [
    "pip install imblearn\n"
   ]
  },
  {
   "cell_type": "code",
   "execution_count": 20,
   "id": "26a9aae9",
   "metadata": {},
   "outputs": [],
   "source": [
    "from imblearn.over_sampling import SMOTE\n",
    "smote=SMOTE()"
   ]
  },
  {
   "cell_type": "code",
   "execution_count": 21,
   "id": "ec699992",
   "metadata": {},
   "outputs": [
    {
     "data": {
      "text/plain": [
       "1    414\n",
       "2    167\n",
       "Name: Dataset, dtype: int64"
      ]
     },
     "execution_count": 21,
     "metadata": {},
     "output_type": "execute_result"
    }
   ],
   "source": [
    "y_train.value_counts()"
   ]
  },
  {
   "cell_type": "code",
   "execution_count": 22,
   "id": "5290511a",
   "metadata": {},
   "outputs": [],
   "source": [
    "x_train_smote,y_train_smote=smote.fit_resample(x_train,y_train)"
   ]
  },
  {
   "cell_type": "code",
   "execution_count": 23,
   "id": "984909a1",
   "metadata": {},
   "outputs": [
    {
     "data": {
      "text/plain": [
       "1    414\n",
       "2    414\n",
       "Name: Dataset, dtype: int64"
      ]
     },
     "execution_count": 23,
     "metadata": {},
     "output_type": "execute_result"
    }
   ],
   "source": [
    "y_train_smote.value_counts()"
   ]
  },
  {
   "cell_type": "code",
   "execution_count": 24,
   "id": "24af0a72",
   "metadata": {},
   "outputs": [
    {
     "name": "stdout",
     "output_type": "stream",
     "text": [
      "              precision    recall  f1-score   support\n",
      "\n",
      "           1       1.00      1.00      1.00         2\n",
      "\n",
      "    accuracy                           1.00         2\n",
      "   macro avg       1.00      1.00      1.00         2\n",
      "weighted avg       1.00      1.00      1.00         2\n",
      "\n"
     ]
    }
   ],
   "source": [
    "from sklearn.ensemble import RandomForestClassifier\n",
    "from sklearn.metrics import accuracy_score\n",
    "from sklearn.metrics import classification_report\n",
    "model1=RandomForestClassifier()\n",
    "model1.fit(x_train_smote,y_train_smote)\n",
    "y_predict=model1.predict(x_test)\n",
    "rfc1=accuracy_score(y_test,y_predict)\n",
    "rfc1\n",
    "pd.crosstab(y_test, y_predict)\n",
    "print(classification_report(y_test,y_predict))"
   ]
  },
  {
   "cell_type": "code",
   "execution_count": 25,
   "id": "033fbc23",
   "metadata": {},
   "outputs": [
    {
     "name": "stdout",
     "output_type": "stream",
     "text": [
      "              precision    recall  f1-score   support\n",
      "\n",
      "           1       1.00      0.50      0.67         2\n",
      "           2       0.00      0.00      0.00         0\n",
      "\n",
      "    accuracy                           0.50         2\n",
      "   macro avg       0.50      0.25      0.33         2\n",
      "weighted avg       1.00      0.50      0.67         2\n",
      "\n"
     ]
    },
    {
     "name": "stderr",
     "output_type": "stream",
     "text": [
      "C:\\Users\\ELCOT\\anaconda3\\lib\\site-packages\\sklearn\\metrics\\_classification.py:1344: UndefinedMetricWarning: Recall and F-score are ill-defined and being set to 0.0 in labels with no true samples. Use `zero_division` parameter to control this behavior.\n",
      "  _warn_prf(average, modifier, msg_start, len(result))\n",
      "C:\\Users\\ELCOT\\anaconda3\\lib\\site-packages\\sklearn\\metrics\\_classification.py:1344: UndefinedMetricWarning: Recall and F-score are ill-defined and being set to 0.0 in labels with no true samples. Use `zero_division` parameter to control this behavior.\n",
      "  _warn_prf(average, modifier, msg_start, len(result))\n",
      "C:\\Users\\ELCOT\\anaconda3\\lib\\site-packages\\sklearn\\metrics\\_classification.py:1344: UndefinedMetricWarning: Recall and F-score are ill-defined and being set to 0.0 in labels with no true samples. Use `zero_division` parameter to control this behavior.\n",
      "  _warn_prf(average, modifier, msg_start, len(result))\n"
     ]
    }
   ],
   "source": [
    "from sklearn.tree import DecisionTreeClassifier\n",
    "model4=DecisionTreeClassifier()\n",
    "model4.fit(x_train_smote,y_train_smote)\n",
    "y_predict=model4.predict(x_test)\n",
    "dtc1=accuracy_score(y_test,y_predict)\n",
    "dtc1\n",
    "pd.crosstab(y_test,y_predict)\n",
    "print(classification_report(y_test,y_predict))"
   ]
  },
  {
   "cell_type": "code",
   "execution_count": 26,
   "id": "6e7b177b",
   "metadata": {},
   "outputs": [
    {
     "name": "stdout",
     "output_type": "stream",
     "text": [
      "              precision    recall  f1-score   support\n",
      "\n",
      "           1       1.00      1.00      1.00         2\n",
      "\n",
      "    accuracy                           1.00         2\n",
      "   macro avg       1.00      1.00      1.00         2\n",
      "weighted avg       1.00      1.00      1.00         2\n",
      "\n"
     ]
    }
   ],
   "source": [
    "from sklearn.neighbors import KNeighborsClassifier\n",
    "model2=KNeighborsClassifier()\n",
    "model2.fit(x_train_smote,y_train_smote)\n",
    "y_predict=model2.predict(x_test)\n",
    "knn1=(accuracy_score(y_test,y_predict))\n",
    "knn1\n",
    "pd.crosstab(y_test,y_predict)\n",
    "print(classification_report(y_test,y_predict))"
   ]
  },
  {
   "cell_type": "code",
   "execution_count": 27,
   "id": "c86a9771",
   "metadata": {},
   "outputs": [
    {
     "name": "stdout",
     "output_type": "stream",
     "text": [
      "              precision    recall  f1-score   support\n",
      "\n",
      "           1       1.00      1.00      1.00         2\n",
      "\n",
      "    accuracy                           1.00         2\n",
      "   macro avg       1.00      1.00      1.00         2\n",
      "weighted avg       1.00      1.00      1.00         2\n",
      "\n"
     ]
    }
   ],
   "source": [
    "from sklearn.linear_model import LogisticRegression\n",
    "model5=LogisticRegression()\n",
    "model5.fit(x_train_smote,y_train_smote)\n",
    "y_predict=model5.predict(x_test)\n",
    "logi1=accuracy_score(y_test,y_predict)\n",
    "logi1\n",
    "pd.crosstab(y_test,y_predict)\n",
    "print(classification_report(y_test,y_predict))"
   ]
  },
  {
   "cell_type": "code",
   "execution_count": 28,
   "id": "0d314659",
   "metadata": {},
   "outputs": [],
   "source": [
    "import tensorflow.keras\n",
    "from tensorflow.keras.models import Sequential\n",
    "from tensorflow.keras.layers import Dense"
   ]
  },
  {
   "cell_type": "code",
   "execution_count": 30,
   "id": "768e2702",
   "metadata": {},
   "outputs": [],
   "source": [
    "classifier=Sequential()"
   ]
  },
  {
   "cell_type": "code",
   "execution_count": 31,
   "id": "09e05ba2",
   "metadata": {},
   "outputs": [],
   "source": [
    "classifier.add(Dense(units=100, activation='relu', input_dim=10))"
   ]
  },
  {
   "cell_type": "code",
   "execution_count": 32,
   "id": "315d72a8",
   "metadata": {},
   "outputs": [],
   "source": [
    "classifier.add(Dense(units=50, activation='relu'))"
   ]
  },
  {
   "cell_type": "code",
   "execution_count": 33,
   "id": "914f4b28",
   "metadata": {},
   "outputs": [],
   "source": [
    "classifier.add(Dense(units=1, activation='sigmoid'))"
   ]
  },
  {
   "cell_type": "code",
   "execution_count": 34,
   "id": "480b712e",
   "metadata": {},
   "outputs": [],
   "source": [
    "classifier.compile(optimizer='adam', loss='binary_crossentropy', metrics=['accuracy'])"
   ]
  },
  {
   "cell_type": "code",
   "execution_count": 35,
   "id": "757ac260",
   "metadata": {},
   "outputs": [
    {
     "name": "stdout",
     "output_type": "stream",
     "text": [
      "Epoch 1/100\n",
      "5/5 [==============================] - 6s 416ms/step - loss: 0.5422 - accuracy: 0.5841 - val_loss: 0.3808 - val_accuracy: 0.6667\n",
      "Epoch 2/100\n",
      "5/5 [==============================] - 0s 41ms/step - loss: 0.2659 - accuracy: 0.7241 - val_loss: 0.1329 - val_accuracy: 0.6667\n",
      "Epoch 3/100\n",
      "5/5 [==============================] - 0s 40ms/step - loss: 0.0323 - accuracy: 0.7241 - val_loss: -0.0941 - val_accuracy: 0.6667\n",
      "Epoch 4/100\n",
      "5/5 [==============================] - 0s 36ms/step - loss: -0.1840 - accuracy: 0.7241 - val_loss: -0.3184 - val_accuracy: 0.6667\n",
      "Epoch 5/100\n",
      "5/5 [==============================] - 0s 36ms/step - loss: -0.3969 - accuracy: 0.7241 - val_loss: -0.5476 - val_accuracy: 0.6667\n",
      "Epoch 6/100\n",
      "5/5 [==============================] - 0s 29ms/step - loss: -0.6125 - accuracy: 0.7241 - val_loss: -0.7869 - val_accuracy: 0.6667\n",
      "Epoch 7/100\n",
      "5/5 [==============================] - 0s 37ms/step - loss: -0.8287 - accuracy: 0.7241 - val_loss: -1.0441 - val_accuracy: 0.6667\n",
      "Epoch 8/100\n",
      "5/5 [==============================] - 0s 34ms/step - loss: -1.0720 - accuracy: 0.7241 - val_loss: -1.3243 - val_accuracy: 0.6667\n",
      "Epoch 9/100\n",
      "5/5 [==============================] - 0s 36ms/step - loss: -1.3437 - accuracy: 0.7241 - val_loss: -1.6369 - val_accuracy: 0.6667\n",
      "Epoch 10/100\n",
      "5/5 [==============================] - 0s 31ms/step - loss: -1.6564 - accuracy: 0.7241 - val_loss: -1.9922 - val_accuracy: 0.6667\n",
      "Epoch 11/100\n",
      "5/5 [==============================] - 0s 37ms/step - loss: -1.9957 - accuracy: 0.7241 - val_loss: -2.4106 - val_accuracy: 0.6667\n",
      "Epoch 12/100\n",
      "5/5 [==============================] - 0s 35ms/step - loss: -2.4051 - accuracy: 0.7241 - val_loss: -2.8954 - val_accuracy: 0.6667\n",
      "Epoch 13/100\n",
      "5/5 [==============================] - 0s 36ms/step - loss: -2.8915 - accuracy: 0.7241 - val_loss: -3.4569 - val_accuracy: 0.6667\n",
      "Epoch 14/100\n",
      "5/5 [==============================] - 0s 39ms/step - loss: -3.4371 - accuracy: 0.7241 - val_loss: -4.1145 - val_accuracy: 0.6667\n",
      "Epoch 15/100\n",
      "5/5 [==============================] - 0s 37ms/step - loss: -4.0807 - accuracy: 0.7241 - val_loss: -4.8860 - val_accuracy: 0.6667\n",
      "Epoch 16/100\n",
      "5/5 [==============================] - 0s 46ms/step - loss: -4.8606 - accuracy: 0.7241 - val_loss: -5.7799 - val_accuracy: 0.6667\n",
      "Epoch 17/100\n",
      "5/5 [==============================] - 0s 35ms/step - loss: -5.7146 - accuracy: 0.7241 - val_loss: -6.8179 - val_accuracy: 0.6667\n",
      "Epoch 18/100\n",
      "5/5 [==============================] - 0s 34ms/step - loss: -6.7125 - accuracy: 0.7241 - val_loss: -8.0113 - val_accuracy: 0.6667\n",
      "Epoch 19/100\n",
      "5/5 [==============================] - 0s 35ms/step - loss: -7.8321 - accuracy: 0.7241 - val_loss: -9.3877 - val_accuracy: 0.6667\n",
      "Epoch 20/100\n",
      "5/5 [==============================] - 0s 42ms/step - loss: -9.2544 - accuracy: 0.7241 - val_loss: -10.9221 - val_accuracy: 0.6667\n",
      "Epoch 21/100\n",
      "5/5 [==============================] - 0s 65ms/step - loss: -10.7744 - accuracy: 0.7241 - val_loss: -12.6892 - val_accuracy: 0.6667\n",
      "Epoch 22/100\n",
      "5/5 [==============================] - 0s 35ms/step - loss: -12.4167 - accuracy: 0.7241 - val_loss: -14.7255 - val_accuracy: 0.6667\n",
      "Epoch 23/100\n",
      "5/5 [==============================] - 0s 34ms/step - loss: -14.4367 - accuracy: 0.7241 - val_loss: -16.9826 - val_accuracy: 0.6667\n",
      "Epoch 24/100\n",
      "5/5 [==============================] - 0s 33ms/step - loss: -16.6426 - accuracy: 0.7241 - val_loss: -19.5277 - val_accuracy: 0.6667\n",
      "Epoch 25/100\n",
      "5/5 [==============================] - 0s 34ms/step - loss: -19.2267 - accuracy: 0.7241 - val_loss: -22.3284 - val_accuracy: 0.6667\n",
      "Epoch 26/100\n",
      "5/5 [==============================] - 0s 34ms/step - loss: -21.8273 - accuracy: 0.7241 - val_loss: -25.4997 - val_accuracy: 0.6667\n",
      "Epoch 27/100\n",
      "5/5 [==============================] - 0s 32ms/step - loss: -24.9349 - accuracy: 0.7241 - val_loss: -28.9732 - val_accuracy: 0.6667\n",
      "Epoch 28/100\n",
      "5/5 [==============================] - 0s 38ms/step - loss: -28.2888 - accuracy: 0.7241 - val_loss: -32.8041 - val_accuracy: 0.6667\n",
      "Epoch 29/100\n",
      "5/5 [==============================] - 0s 38ms/step - loss: -31.9827 - accuracy: 0.7241 - val_loss: -36.9986 - val_accuracy: 0.6667\n",
      "Epoch 30/100\n",
      "5/5 [==============================] - 0s 30ms/step - loss: -35.8496 - accuracy: 0.7241 - val_loss: -41.5718 - val_accuracy: 0.6667\n",
      "Epoch 31/100\n",
      "5/5 [==============================] - 0s 38ms/step - loss: -40.4737 - accuracy: 0.7241 - val_loss: -46.4549 - val_accuracy: 0.6667\n",
      "Epoch 32/100\n",
      "5/5 [==============================] - 0s 38ms/step - loss: -45.1243 - accuracy: 0.7241 - val_loss: -51.8674 - val_accuracy: 0.6667\n",
      "Epoch 33/100\n",
      "5/5 [==============================] - 0s 32ms/step - loss: -50.4880 - accuracy: 0.7241 - val_loss: -57.6947 - val_accuracy: 0.6667\n",
      "Epoch 34/100\n",
      "5/5 [==============================] - 0s 36ms/step - loss: -55.9078 - accuracy: 0.7241 - val_loss: -64.0845 - val_accuracy: 0.6667\n",
      "Epoch 35/100\n",
      "5/5 [==============================] - 0s 36ms/step - loss: -61.9790 - accuracy: 0.7241 - val_loss: -70.9201 - val_accuracy: 0.6667\n",
      "Epoch 36/100\n",
      "5/5 [==============================] - 0s 41ms/step - loss: -68.7549 - accuracy: 0.7241 - val_loss: -78.1596 - val_accuracy: 0.6667\n",
      "Epoch 37/100\n",
      "5/5 [==============================] - 0s 62ms/step - loss: -75.9392 - accuracy: 0.7241 - val_loss: -85.8985 - val_accuracy: 0.6667\n",
      "Epoch 38/100\n",
      "5/5 [==============================] - 0s 35ms/step - loss: -83.0669 - accuracy: 0.7241 - val_loss: -94.2703 - val_accuracy: 0.6667\n",
      "Epoch 39/100\n",
      "5/5 [==============================] - 0s 31ms/step - loss: -91.0406 - accuracy: 0.7241 - val_loss: -103.1427 - val_accuracy: 0.6667\n",
      "Epoch 40/100\n",
      "5/5 [==============================] - 0s 35ms/step - loss: -99.5704 - accuracy: 0.7241 - val_loss: -112.5096 - val_accuracy: 0.6667\n",
      "Epoch 41/100\n",
      "5/5 [==============================] - 0s 34ms/step - loss: -108.8390 - accuracy: 0.7241 - val_loss: -122.3548 - val_accuracy: 0.6667\n",
      "Epoch 42/100\n",
      "5/5 [==============================] - 0s 26ms/step - loss: -117.7431 - accuracy: 0.7241 - val_loss: -133.0840 - val_accuracy: 0.6667\n",
      "Epoch 43/100\n",
      "5/5 [==============================] - 0s 28ms/step - loss: -128.4065 - accuracy: 0.7241 - val_loss: -144.1326 - val_accuracy: 0.6667\n",
      "Epoch 44/100\n",
      "5/5 [==============================] - 0s 32ms/step - loss: -138.9594 - accuracy: 0.7241 - val_loss: -155.9225 - val_accuracy: 0.6667\n",
      "Epoch 45/100\n",
      "5/5 [==============================] - 0s 37ms/step - loss: -150.3241 - accuracy: 0.7241 - val_loss: -168.3043 - val_accuracy: 0.6667\n",
      "Epoch 46/100\n",
      "5/5 [==============================] - 0s 37ms/step - loss: -162.4514 - accuracy: 0.7241 - val_loss: -181.2635 - val_accuracy: 0.6667\n",
      "Epoch 47/100\n",
      "5/5 [==============================] - 0s 32ms/step - loss: -174.8497 - accuracy: 0.7241 - val_loss: -194.9913 - val_accuracy: 0.6667\n",
      "Epoch 48/100\n",
      "5/5 [==============================] - 0s 28ms/step - loss: -187.6852 - accuracy: 0.7241 - val_loss: -209.6055 - val_accuracy: 0.6667\n",
      "Epoch 49/100\n",
      "5/5 [==============================] - 0s 30ms/step - loss: -202.2374 - accuracy: 0.7241 - val_loss: -224.6405 - val_accuracy: 0.6667\n",
      "Epoch 50/100\n",
      "5/5 [==============================] - 0s 28ms/step - loss: -216.6525 - accuracy: 0.7241 - val_loss: -240.5707 - val_accuracy: 0.6667\n",
      "Epoch 51/100\n",
      "5/5 [==============================] - 0s 26ms/step - loss: -231.1528 - accuracy: 0.7241 - val_loss: -257.5544 - val_accuracy: 0.6667\n",
      "Epoch 52/100\n",
      "5/5 [==============================] - 0s 34ms/step - loss: -247.7200 - accuracy: 0.7241 - val_loss: -274.9738 - val_accuracy: 0.6667\n",
      "Epoch 53/100\n",
      "5/5 [==============================] - 0s 29ms/step - loss: -264.5852 - accuracy: 0.7241 - val_loss: -293.1219 - val_accuracy: 0.6667\n",
      "Epoch 54/100\n",
      "5/5 [==============================] - 0s 37ms/step - loss: -281.4488 - accuracy: 0.7241 - val_loss: -312.2054 - val_accuracy: 0.6667\n",
      "Epoch 55/100\n",
      "5/5 [==============================] - 0s 26ms/step - loss: -300.2705 - accuracy: 0.7241 - val_loss: -331.8430 - val_accuracy: 0.6667\n",
      "Epoch 56/100\n",
      "5/5 [==============================] - 0s 28ms/step - loss: -318.7236 - accuracy: 0.7241 - val_loss: -352.6438 - val_accuracy: 0.6667\n",
      "Epoch 57/100\n",
      "5/5 [==============================] - 0s 29ms/step - loss: -338.9878 - accuracy: 0.7241 - val_loss: -374.0159 - val_accuracy: 0.6667\n",
      "Epoch 58/100\n",
      "5/5 [==============================] - 0s 35ms/step - loss: -359.1780 - accuracy: 0.7241 - val_loss: -396.3403 - val_accuracy: 0.6667\n",
      "Epoch 59/100\n",
      "5/5 [==============================] - 0s 28ms/step - loss: -380.7325 - accuracy: 0.7241 - val_loss: -419.3933 - val_accuracy: 0.6667\n",
      "Epoch 60/100\n",
      "5/5 [==============================] - 0s 26ms/step - loss: -402.2026 - accuracy: 0.7241 - val_loss: -443.3484 - val_accuracy: 0.6667\n",
      "Epoch 61/100\n",
      "5/5 [==============================] - 0s 27ms/step - loss: -425.6306 - accuracy: 0.7241 - val_loss: -467.9595 - val_accuracy: 0.6667\n",
      "Epoch 62/100\n",
      "5/5 [==============================] - 0s 28ms/step - loss: -449.7859 - accuracy: 0.7241 - val_loss: -493.1879 - val_accuracy: 0.6667\n",
      "Epoch 63/100\n",
      "5/5 [==============================] - 0s 26ms/step - loss: -472.4177 - accuracy: 0.7241 - val_loss: -520.0634 - val_accuracy: 0.6667\n",
      "Epoch 64/100\n",
      "5/5 [==============================] - 0s 27ms/step - loss: -499.6669 - accuracy: 0.7241 - val_loss: -546.9124 - val_accuracy: 0.6667\n",
      "Epoch 65/100\n",
      "5/5 [==============================] - 0s 27ms/step - loss: -523.7792 - accuracy: 0.7241 - val_loss: -575.7837 - val_accuracy: 0.6667\n",
      "Epoch 66/100\n",
      "5/5 [==============================] - 0s 28ms/step - loss: -552.1584 - accuracy: 0.7241 - val_loss: -604.7328 - val_accuracy: 0.6667\n",
      "Epoch 67/100\n",
      "5/5 [==============================] - 0s 29ms/step - loss: -581.6614 - accuracy: 0.7241 - val_loss: -634.2858 - val_accuracy: 0.6667\n",
      "Epoch 68/100\n",
      "5/5 [==============================] - 0s 25ms/step - loss: -608.9637 - accuracy: 0.7241 - val_loss: -665.8650 - val_accuracy: 0.6667\n",
      "Epoch 69/100\n",
      "5/5 [==============================] - 0s 28ms/step - loss: -639.2344 - accuracy: 0.7241 - val_loss: -698.5083 - val_accuracy: 0.6667\n",
      "Epoch 70/100\n",
      "5/5 [==============================] - 0s 31ms/step - loss: -671.4556 - accuracy: 0.7241 - val_loss: -731.6407 - val_accuracy: 0.6667\n",
      "Epoch 71/100\n",
      "5/5 [==============================] - 0s 29ms/step - loss: -703.3871 - accuracy: 0.7241 - val_loss: -766.2705 - val_accuracy: 0.6667\n",
      "Epoch 72/100\n",
      "5/5 [==============================] - 0s 26ms/step - loss: -736.7963 - accuracy: 0.7241 - val_loss: -802.0321 - val_accuracy: 0.6667\n",
      "Epoch 73/100\n",
      "5/5 [==============================] - 0s 27ms/step - loss: -771.5988 - accuracy: 0.7241 - val_loss: -838.7468 - val_accuracy: 0.6667\n",
      "Epoch 74/100\n",
      "5/5 [==============================] - 0s 26ms/step - loss: -806.4143 - accuracy: 0.7241 - val_loss: -876.6233 - val_accuracy: 0.6667\n",
      "Epoch 75/100\n",
      "5/5 [==============================] - 0s 29ms/step - loss: -842.1935 - accuracy: 0.7241 - val_loss: -915.8925 - val_accuracy: 0.6667\n",
      "Epoch 76/100\n",
      "5/5 [==============================] - 0s 39ms/step - loss: -881.4714 - accuracy: 0.7241 - val_loss: -955.4727 - val_accuracy: 0.6667\n",
      "Epoch 77/100\n",
      "5/5 [==============================] - 0s 35ms/step - loss: -918.2462 - accuracy: 0.7241 - val_loss: -997.1924 - val_accuracy: 0.6667\n",
      "Epoch 78/100\n",
      "5/5 [==============================] - 0s 28ms/step - loss: -959.5361 - accuracy: 0.7241 - val_loss: -1039.5581 - val_accuracy: 0.6667\n",
      "Epoch 79/100\n",
      "5/5 [==============================] - 0s 27ms/step - loss: -997.9863 - accuracy: 0.7241 - val_loss: -1083.8802 - val_accuracy: 0.6667\n",
      "Epoch 80/100\n",
      "5/5 [==============================] - 0s 28ms/step - loss: -1043.0837 - accuracy: 0.7241 - val_loss: -1127.6344 - val_accuracy: 0.6667\n",
      "Epoch 81/100\n",
      "5/5 [==============================] - 0s 26ms/step - loss: -1083.7321 - accuracy: 0.7241 - val_loss: -1173.7883 - val_accuracy: 0.6667\n",
      "Epoch 82/100\n",
      "5/5 [==============================] - 0s 30ms/step - loss: -1128.2839 - accuracy: 0.7241 - val_loss: -1220.4689 - val_accuracy: 0.6667\n",
      "Epoch 83/100\n",
      "5/5 [==============================] - 0s 27ms/step - loss: -1174.1012 - accuracy: 0.7241 - val_loss: -1267.3398 - val_accuracy: 0.6667\n",
      "Epoch 84/100\n",
      "5/5 [==============================] - 0s 28ms/step - loss: -1219.7699 - accuracy: 0.7241 - val_loss: -1315.9480 - val_accuracy: 0.6667\n",
      "Epoch 85/100\n",
      "5/5 [==============================] - 0s 43ms/step - loss: -1267.6039 - accuracy: 0.7241 - val_loss: -1365.7267 - val_accuracy: 0.6667\n",
      "Epoch 86/100\n",
      "5/5 [==============================] - 0s 38ms/step - loss: -1314.7460 - accuracy: 0.7241 - val_loss: -1417.7855 - val_accuracy: 0.6667\n",
      "Epoch 87/100\n",
      "5/5 [==============================] - 0s 28ms/step - loss: -1364.6332 - accuracy: 0.7241 - val_loss: -1471.4004 - val_accuracy: 0.6667\n",
      "Epoch 88/100\n",
      "5/5 [==============================] - 0s 31ms/step - loss: -1417.0692 - accuracy: 0.7241 - val_loss: -1526.1272 - val_accuracy: 0.6667\n",
      "Epoch 89/100\n",
      "5/5 [==============================] - 0s 29ms/step - loss: -1470.1221 - accuracy: 0.7241 - val_loss: -1582.1892 - val_accuracy: 0.6667\n",
      "Epoch 90/100\n",
      "5/5 [==============================] - 0s 25ms/step - loss: -1524.1315 - accuracy: 0.7241 - val_loss: -1639.3831 - val_accuracy: 0.6667\n",
      "Epoch 91/100\n",
      "5/5 [==============================] - 0s 33ms/step - loss: -1579.3636 - accuracy: 0.7241 - val_loss: -1698.0742 - val_accuracy: 0.6667\n",
      "Epoch 92/100\n",
      "5/5 [==============================] - 0s 28ms/step - loss: -1635.1654 - accuracy: 0.7241 - val_loss: -1758.2979 - val_accuracy: 0.6667\n",
      "Epoch 93/100\n",
      "5/5 [==============================] - 0s 29ms/step - loss: -1695.1246 - accuracy: 0.7241 - val_loss: -1818.6610 - val_accuracy: 0.6667\n",
      "Epoch 94/100\n",
      "5/5 [==============================] - 0s 29ms/step - loss: -1752.9114 - accuracy: 0.7241 - val_loss: -1880.9408 - val_accuracy: 0.6667\n",
      "Epoch 95/100\n",
      "5/5 [==============================] - 0s 30ms/step - loss: -1814.4203 - accuracy: 0.7241 - val_loss: -1943.9985 - val_accuracy: 0.6667\n",
      "Epoch 96/100\n",
      "5/5 [==============================] - 0s 31ms/step - loss: -1872.8448 - accuracy: 0.7241 - val_loss: -2010.1635 - val_accuracy: 0.6667\n",
      "Epoch 97/100\n",
      "5/5 [==============================] - 0s 31ms/step - loss: -1935.9602 - accuracy: 0.7241 - val_loss: -2077.3596 - val_accuracy: 0.6667\n",
      "Epoch 98/100\n",
      "5/5 [==============================] - 0s 29ms/step - loss: -2000.7798 - accuracy: 0.7241 - val_loss: -2145.3552 - val_accuracy: 0.6667\n",
      "Epoch 99/100\n",
      "5/5 [==============================] - 0s 31ms/step - loss: -2069.5911 - accuracy: 0.7241 - val_loss: -2213.2771 - val_accuracy: 0.6667\n",
      "Epoch 100/100\n",
      "5/5 [==============================] - 0s 31ms/step - loss: -2134.0151 - accuracy: 0.7241 - val_loss: -2284.0107 - val_accuracy: 0.6667\n"
     ]
    }
   ],
   "source": [
    "model_history=classifier.fit(x_train,y_train, batch_size=100, validation_split=0.2, epochs=100)"
   ]
  },
  {
   "cell_type": "code",
   "execution_count": 36,
   "id": "9002ffc8",
   "metadata": {},
   "outputs": [
    {
     "name": "stderr",
     "output_type": "stream",
     "text": [
      "C:\\Users\\ELCOT\\anaconda3\\lib\\site-packages\\sklearn\\base.py:420: UserWarning: X does not have valid feature names, but DecisionTreeClassifier was fitted with feature names\n",
      "  warnings.warn(\n"
     ]
    },
    {
     "data": {
      "text/plain": [
       "array([1], dtype=int64)"
      ]
     },
     "execution_count": 36,
     "metadata": {},
     "output_type": "execute_result"
    }
   ],
   "source": [
    "model4.predict([[50,1,1.2,0.8,150,70,80,7.2,3.4,0.8]])"
   ]
  },
  {
   "cell_type": "code",
   "execution_count": 37,
   "id": "0bfc57b7",
   "metadata": {},
   "outputs": [
    {
     "name": "stderr",
     "output_type": "stream",
     "text": [
      "C:\\Users\\ELCOT\\anaconda3\\lib\\site-packages\\sklearn\\base.py:420: UserWarning: X does not have valid feature names, but RandomForestClassifier was fitted with feature names\n",
      "  warnings.warn(\n"
     ]
    },
    {
     "data": {
      "text/plain": [
       "array([1], dtype=int64)"
      ]
     },
     "execution_count": 37,
     "metadata": {},
     "output_type": "execute_result"
    }
   ],
   "source": [
    "model1.predict([[50,1,1.2,0.8,150,70,80,7.2,3.4,0.8]])"
   ]
  },
  {
   "cell_type": "code",
   "execution_count": 38,
   "id": "c98fc22a",
   "metadata": {},
   "outputs": [
    {
     "name": "stderr",
     "output_type": "stream",
     "text": [
      "C:\\Users\\ELCOT\\anaconda3\\lib\\site-packages\\sklearn\\base.py:420: UserWarning: X does not have valid feature names, but KNeighborsClassifier was fitted with feature names\n",
      "  warnings.warn(\n"
     ]
    },
    {
     "data": {
      "text/plain": [
       "array([1], dtype=int64)"
      ]
     },
     "execution_count": 38,
     "metadata": {},
     "output_type": "execute_result"
    }
   ],
   "source": [
    "model2.predict([[50,1,1.2,0.8,150,70,80,7.2,3.4,0.8]])"
   ]
  },
  {
   "cell_type": "code",
   "execution_count": 39,
   "id": "8ce9b542",
   "metadata": {},
   "outputs": [
    {
     "name": "stderr",
     "output_type": "stream",
     "text": [
      "C:\\Users\\ELCOT\\anaconda3\\lib\\site-packages\\sklearn\\base.py:420: UserWarning: X does not have valid feature names, but LogisticRegression was fitted with feature names\n",
      "  warnings.warn(\n"
     ]
    },
    {
     "data": {
      "text/plain": [
       "array([1], dtype=int64)"
      ]
     },
     "execution_count": 39,
     "metadata": {},
     "output_type": "execute_result"
    }
   ],
   "source": [
    "model5.predict([[50,1,1.2,0.8,150,70,80,7.2,3.4,0.8]])"
   ]
  },
  {
   "cell_type": "code",
   "execution_count": 40,
   "id": "abd2ed3b",
   "metadata": {},
   "outputs": [],
   "source": [
    "classifier.save(\"liver.h5\")"
   ]
  },
  {
   "cell_type": "code",
   "execution_count": 41,
   "id": "32887abc",
   "metadata": {},
   "outputs": [
    {
     "name": "stdout",
     "output_type": "stream",
     "text": [
      "1/1 [==============================] - 0s 297ms/step\n"
     ]
    }
   ],
   "source": [
    "y_pred=classifier.predict(x_test)"
   ]
  },
  {
   "cell_type": "code",
   "execution_count": 42,
   "id": "c097e5cb",
   "metadata": {},
   "outputs": [
    {
     "data": {
      "text/plain": [
       "array([[1.],\n",
       "       [1.]], dtype=float32)"
      ]
     },
     "execution_count": 42,
     "metadata": {},
     "output_type": "execute_result"
    }
   ],
   "source": [
    "y_pred"
   ]
  },
  {
   "cell_type": "code",
   "execution_count": 43,
   "id": "d5ae049b",
   "metadata": {},
   "outputs": [
    {
     "data": {
      "text/plain": [
       "array([[ True],\n",
       "       [ True]])"
      ]
     },
     "execution_count": 43,
     "metadata": {},
     "output_type": "execute_result"
    }
   ],
   "source": [
    "y_pred=(y_pred>0.5)\n",
    "y_pred"
   ]
  },
  {
   "cell_type": "code",
   "execution_count": 44,
   "id": "864c943d",
   "metadata": {},
   "outputs": [],
   "source": [
    "def predict_exit(sample_value):\n",
    "    sample_value=np.array(sample_value)\n",
    "    sample_value=sample_value.reshape(1,-1)\n",
    "    sample_value=scale(sample_value)\n",
    "    return classifier.predict(sample_value)"
   ]
  },
  {
   "cell_type": "code",
   "execution_count": 45,
   "id": "068348c4",
   "metadata": {},
   "outputs": [
    {
     "name": "stdout",
     "output_type": "stream",
     "text": [
      "1/1 [==============================] - 0s 203ms/step\n",
      "Prediction: Liver Patient\n"
     ]
    }
   ],
   "source": [
    "sample_value=[[50,1,1.2,0.8,150,70,80,7.2,3.4,0.8]]\n",
    "if predict_exit(sample_value)>0.5:\n",
    "    print('Prediction: Liver Patient')\n",
    "else:\n",
    "    print('Prediction: Healthy')"
   ]
  },
  {
   "cell_type": "code",
   "execution_count": 46,
   "id": "ee2f8935",
   "metadata": {},
   "outputs": [
    {
     "data": {
      "text/html": [
       "<div>\n",
       "<style scoped>\n",
       "    .dataframe tbody tr th:only-of-type {\n",
       "        vertical-align: middle;\n",
       "    }\n",
       "\n",
       "    .dataframe tbody tr th {\n",
       "        vertical-align: top;\n",
       "    }\n",
       "\n",
       "    .dataframe thead th {\n",
       "        text-align: right;\n",
       "    }\n",
       "</style>\n",
       "<table border=\"1\" class=\"dataframe\">\n",
       "  <thead>\n",
       "    <tr style=\"text-align: right;\">\n",
       "      <th></th>\n",
       "      <th>classification models</th>\n",
       "      <th>accuracy_score</th>\n",
       "    </tr>\n",
       "  </thead>\n",
       "  <tbody>\n",
       "    <tr>\n",
       "      <th>0</th>\n",
       "      <td>KNN Classifier</td>\n",
       "      <td>1.0</td>\n",
       "    </tr>\n",
       "    <tr>\n",
       "      <th>1</th>\n",
       "      <td>RandomForestClassifier</td>\n",
       "      <td>1.0</td>\n",
       "    </tr>\n",
       "    <tr>\n",
       "      <th>2</th>\n",
       "      <td>DecisionTreeClassifier</td>\n",
       "      <td>0.5</td>\n",
       "    </tr>\n",
       "    <tr>\n",
       "      <th>3</th>\n",
       "      <td>LogisticRegression</td>\n",
       "      <td>1.0</td>\n",
       "    </tr>\n",
       "  </tbody>\n",
       "</table>\n",
       "</div>"
      ],
      "text/plain": [
       "    classification models  accuracy_score\n",
       "0          KNN Classifier             1.0\n",
       "1  RandomForestClassifier             1.0\n",
       "2  DecisionTreeClassifier             0.5\n",
       "3      LogisticRegression             1.0"
      ]
     },
     "execution_count": 46,
     "metadata": {},
     "output_type": "execute_result"
    }
   ],
   "source": [
    "acc_smote=[['KNN Classifier', knn1], ['RandomForestClassifier',rfc1],['DecisionTreeClassifier',dtc1],['LogisticRegression',logi1]]\n",
    "Liverpatient_pred=pd.DataFrame(acc_smote, columns=['classification models','accuracy_score'])\n",
    "Liverpatient_pred"
   ]
  },
  {
   "cell_type": "code",
   "execution_count": 47,
   "id": "56552577",
   "metadata": {},
   "outputs": [
    {
     "data": {
      "text/plain": [
       "<Axes: title={'center': 'Classification models& accuracy scores after SMOTE'}, xlabel='classification models', ylabel='accuracy_score'>"
      ]
     },
     "execution_count": 47,
     "metadata": {},
     "output_type": "execute_result"
    },
    {
     "data": {
      "image/png": "[encoded data removed]",
      "text/plain": [
       "<Figure size 700x500 with 1 Axes>"
      ]
     },
     "metadata": {},
     "output_type": "display_data"
    }
   ],
   "source": [
    "plt.figure(figsize=(7,5))\n",
    "plt.xticks(rotation=90)\n",
    "plt.title('Classification models& accuracy scores after SMOTE',fontsize=18)\n",
    "sns.barplot(x=\"classification models\", y=\"accuracy_score\", data=Liverpatient_pred,palette=\"Set2\")"
   ]
  },
  {
   "cell_type": "code",
   "execution_count": 48,
   "id": "a26e566b",
   "metadata": {},
   "outputs": [
    {
     "data": {
      "text/html": [
       "<style>#sk-container-id-1 {color: black;background-color: white;}#sk-container-id-1 pre{padding: 0;}#sk-container-id-1 div.sk-toggleable {background-color: white;}#sk-container-id-1 label.sk-toggleable__label {cursor: pointer;display: block;width: 100%;margin-bottom: 0;padding: 0.3em;box-sizing: border-box;text-align: center;}#sk-container-id-1 label.sk-toggleable__label-arrow:before {content: \"▸\";float: left;margin-right: 0.25em;color: #696969;}#sk-container-id-1 label.sk-toggleable__label-arrow:hover:before {color: black;}#sk-container-id-1 div.sk-estimator:hover label.sk-toggleable__label-arrow:before {color: black;}#sk-container-id-1 div.sk-toggleable__content {max-height: 0;max-width: 0;overflow: hidden;text-align: left;background-color: #f0f8ff;}#sk-container-id-1 div.sk-toggleable__content pre {margin: 0.2em;color: black;border-radius: 0.25em;background-color: #f0f8ff;}#sk-container-id-1 input.sk-toggleable__control:checked~div.sk-toggleable__content {max-height: 200px;max-width: 100%;overflow: auto;}#sk-container-id-1 input.sk-toggleable__control:checked~label.sk-toggleable__label-arrow:before {content: \"▾\";}#sk-container-id-1 div.sk-estimator input.sk-toggleable__control:checked~label.sk-toggleable__label {background-color: #d4ebff;}#sk-container-id-1 div.sk-label input.sk-toggleable__control:checked~label.sk-toggleable__label {background-color: #d4ebff;}#sk-container-id-1 input.sk-hidden--visually {border: 0;clip: rect(1px 1px 1px 1px);clip: rect(1px, 1px, 1px, 1px);height: 1px;margin: -1px;overflow: hidden;padding: 0;position: absolute;width: 1px;}#sk-container-id-1 div.sk-estimator {font-family: monospace;background-color: #f0f8ff;border: 1px dotted black;border-radius: 0.25em;box-sizing: border-box;margin-bottom: 0.5em;}#sk-container-id-1 div.sk-estimator:hover {background-color: #d4ebff;}#sk-container-id-1 div.sk-parallel-item::after {content: \"\";width: 100%;border-bottom: 1px solid gray;flex-grow: 1;}#sk-container-id-1 div.sk-label:hover label.sk-toggleable__label {background-color: #d4ebff;}#sk-container-id-1 div.sk-serial::before {content: \"\";position: absolute;border-left: 1px solid gray;box-sizing: border-box;top: 0;bottom: 0;left: 50%;z-index: 0;}#sk-container-id-1 div.sk-serial {display: flex;flex-direction: column;align-items: center;background-color: white;padding-right: 0.2em;padding-left: 0.2em;position: relative;}#sk-container-id-1 div.sk-item {position: relative;z-index: 1;}#sk-container-id-1 div.sk-parallel {display: flex;align-items: stretch;justify-content: center;background-color: white;position: relative;}#sk-container-id-1 div.sk-item::before, #sk-container-id-1 div.sk-parallel-item::before {content: \"\";position: absolute;border-left: 1px solid gray;box-sizing: border-box;top: 0;bottom: 0;left: 50%;z-index: -1;}#sk-container-id-1 div.sk-parallel-item {display: flex;flex-direction: column;z-index: 1;position: relative;background-color: white;}#sk-container-id-1 div.sk-parallel-item:first-child::after {align-self: flex-end;width: 50%;}#sk-container-id-1 div.sk-parallel-item:last-child::after {align-self: flex-start;width: 50%;}#sk-container-id-1 div.sk-parallel-item:only-child::after {width: 0;}#sk-container-id-1 div.sk-dashed-wrapped {border: 1px dashed gray;margin: 0 0.4em 0.5em 0.4em;box-sizing: border-box;padding-bottom: 0.4em;background-color: white;}#sk-container-id-1 div.sk-label label {font-family: monospace;font-weight: bold;display: inline-block;line-height: 1.2em;}#sk-container-id-1 div.sk-label-container {text-align: center;}#sk-container-id-1 div.sk-container {/* jupyter's `normalize.less` sets `[hidden] { display: none; }` but bootstrap.min.css set `[hidden] { display: none !important; }` so we also need the `!important` here to be able to override the default hidden behavior on the sphinx rendered scikit-learn.org. See: https://github.com/scikit-learn/scikit-learn/issues/21755 */display: inline-block !important;position: relative;}#sk-container-id-1 div.sk-text-repr-fallback {display: none;}</style><div id=\"sk-container-id-1\" class=\"sk-top-container\"><div class=\"sk-text-repr-fallback\"><pre>ExtraTreesClassifier()</pre><b>In a Jupyter environment, please rerun this cell to show the HTML representation or trust the notebook. <br />On GitHub, the HTML representation is unable to render, please try loading this page with nbviewer.org.</b></div><div class=\"sk-container\" hidden><div class=\"sk-item\"><div class=\"sk-estimator sk-toggleable\"><input class=\"sk-toggleable__control sk-hidden--visually\" id=\"sk-estimator-id-1\" type=\"checkbox\" checked><label for=\"sk-estimator-id-1\" class=\"sk-toggleable__label sk-toggleable__label-arrow\">ExtraTreesClassifier</label><div class=\"sk-toggleable__content\"><pre>ExtraTreesClassifier()</pre></div></div></div></div></div>"
      ],
      "text/plain": [
       "ExtraTreesClassifier()"
      ]
     },
     "execution_count": 48,
     "metadata": {},
     "output_type": "execute_result"
    }
   ],
   "source": [
    "from sklearn.ensemble import ExtraTreesClassifier\n",
    "model=ExtraTreesClassifier()\n",
    "model.fit(x,y)"
   ]
  },
  {
   "cell_type": "code",
   "execution_count": 49,
   "id": "580ab33d",
   "metadata": {},
   "outputs": [
    {
     "data": {
      "text/plain": [
       "array([0.11987249, 0.02593902, 0.11762669, 0.10301913, 0.11485053,\n",
       "       0.11280765, 0.10938212, 0.09715333, 0.10198886, 0.09736018])"
      ]
     },
     "execution_count": 49,
     "metadata": {},
     "output_type": "execute_result"
    }
   ],
   "source": [
    "model.feature_importances_"
   ]
  },
  {
   "cell_type": "markdown",
   "id": "a29c8cd3",
   "metadata": {},
   "source": [
    "model.feature_importances_"
   ]
  },
  {
   "cell_type": "code",
   "execution_count": 50,
   "id": "ed55dcb0",
   "metadata": {},
   "outputs": [
    {
     "data": {
      "text/html": [
       "<div>\n",
       "<style scoped>\n",
       "    .dataframe tbody tr th:only-of-type {\n",
       "        vertical-align: middle;\n",
       "    }\n",
       "\n",
       "    .dataframe tbody tr th {\n",
       "        vertical-align: top;\n",
       "    }\n",
       "\n",
       "    .dataframe thead th {\n",
       "        text-align: right;\n",
       "    }\n",
       "</style>\n",
       "<table border=\"1\" class=\"dataframe\">\n",
       "  <thead>\n",
       "    <tr style=\"text-align: right;\">\n",
       "      <th></th>\n",
       "      <th>0</th>\n",
       "    </tr>\n",
       "  </thead>\n",
       "  <tbody>\n",
       "    <tr>\n",
       "      <th>Age</th>\n",
       "      <td>0.119872</td>\n",
       "    </tr>\n",
       "    <tr>\n",
       "      <th>Total_Bilirubin</th>\n",
       "      <td>0.117627</td>\n",
       "    </tr>\n",
       "    <tr>\n",
       "      <th>Alkaline_Phosphotase</th>\n",
       "      <td>0.114851</td>\n",
       "    </tr>\n",
       "    <tr>\n",
       "      <th>Alamine_Aminotransferase</th>\n",
       "      <td>0.112808</td>\n",
       "    </tr>\n",
       "    <tr>\n",
       "      <th>Aspartate_Aminotransferase</th>\n",
       "      <td>0.109382</td>\n",
       "    </tr>\n",
       "    <tr>\n",
       "      <th>Direct_Bilirubin</th>\n",
       "      <td>0.103019</td>\n",
       "    </tr>\n",
       "    <tr>\n",
       "      <th>Albumin</th>\n",
       "      <td>0.101989</td>\n",
       "    </tr>\n",
       "    <tr>\n",
       "      <th>Albumin_and_Globulin_Ratio</th>\n",
       "      <td>0.097360</td>\n",
       "    </tr>\n",
       "    <tr>\n",
       "      <th>Total_Protiens</th>\n",
       "      <td>0.097153</td>\n",
       "    </tr>\n",
       "    <tr>\n",
       "      <th>Gender</th>\n",
       "      <td>0.025939</td>\n",
       "    </tr>\n",
       "  </tbody>\n",
       "</table>\n",
       "</div>"
      ],
      "text/plain": [
       "                                   0\n",
       "Age                         0.119872\n",
       "Total_Bilirubin             0.117627\n",
       "Alkaline_Phosphotase        0.114851\n",
       "Alamine_Aminotransferase    0.112808\n",
       "Aspartate_Aminotransferase  0.109382\n",
       "Direct_Bilirubin            0.103019\n",
       "Albumin                     0.101989\n",
       "Albumin_and_Globulin_Ratio  0.097360\n",
       "Total_Protiens              0.097153\n",
       "Gender                      0.025939"
      ]
     },
     "execution_count": 50,
     "metadata": {},
     "output_type": "execute_result"
    }
   ],
   "source": [
    "dd=pd.DataFrame(model.feature_importances_,index=x.columns).sort_values(0,ascending=False)\n",
    "dd"
   ]
  },
  {
   "cell_type": "code",
   "execution_count": 51,
   "id": "30a311b3",
   "metadata": {},
   "outputs": [
    {
     "data": {
      "text/plain": [
       "Text(0.5, 1.0, 'FEATURE IMPORTANCE')"
      ]
     },
     "execution_count": 51,
     "metadata": {},
     "output_type": "execute_result"
    },
    {
     "data": {
      "image/png": "[encoded data removed]",
      "text/plain": [
       "<Figure size 700x600 with 1 Axes>"
      ]
     },
     "metadata": {},
     "output_type": "display_data"
    }
   ],
   "source": [
    "dd.plot(kind='barh', figsize=(7,6))\n",
    "plt.title(\"FEATURE IMPORTANCE\",fontsize=14)"
   ]
  },
  {
   "cell_type": "code",
   "execution_count": 53,
   "id": "19889d45",
   "metadata": {},
   "outputs": [],
   "source": [
    "import pickle\n",
    " \n",
    "pickle.dump(model1,open(\"ETC.pkl\",'wb'))\n",
    "model=pickle.load(open(\"ETC.pkl\",'rb'))"
   ]
  },
  {
   "cell_type": "code",
   "execution_count": 1,
   "id": "e14d9ae4",
   "metadata": {},
   "outputs": [
    {
     "name": "stdout",
     "output_type": "stream",
     "text": [
      "Note: you may need to restart the kernel to use updated packages.Requirement already satisfied: flask in c:\\users\\elcot\\anaconda3\\lib\\site-packages (2.2.2)\n",
      "Requirement already satisfied: Jinja2>=3.0 in c:\\users\\elcot\\anaconda3\\lib\\site-packages (from flask) (3.1.2)\n",
      "Requirement already satisfied: itsdangerous>=2.0 in c:\\users\\elcot\\anaconda3\\lib\\site-packages (from flask) (2.0.1)\n",
      "Requirement already satisfied: click>=8.0 in c:\\users\\elcot\\anaconda3\\lib\\site-packages (from flask) (8.0.4)\n",
      "Requirement already satisfied: Werkzeug>=2.2.2 in c:\\users\\elcot\\anaconda3\\lib\\site-packages (from flask) (2.2.2)\n",
      "Requirement already satisfied: colorama in c:\\users\\elcot\\anaconda3\\lib\\site-packages (from click>=8.0->flask) (0.4.6)\n",
      "Requirement already satisfied: MarkupSafe>=2.0 in c:\\users\\elcot\\anaconda3\\lib\\site-packages (from Jinja2>=3.0->flask) (2.1.1)\n",
      "\n"
     ]
    }
   ],
   "source": [
    "pip install flask"
   ]
  },
  {
   "cell_type": "code",
   "execution_count": 2,
   "id": "398c47c2",
   "metadata": {},
   "outputs": [],
   "source": [
    "from flask import Flask, render_template, request\n",
    "import numpy as np \n",
    "import pickle"
   ]
  },
  {
   "cell_type": "code",
   "execution_count": null,
   "id": "38642549",
   "metadata": {},
   "outputs": [],
   "source": [
    "app=Flask(_name_)\n",
    "@app.route('/')\n",
    "def home():\n",
    "    return render_template('home.html')\n",
    "@app.rouute('/predict')\n",
    "def index():\n",
    "    return render_template(\"index.html\")"
   ]
  }
 ],
 "metadata": {
  "kernelspec": {
   "display_name": "Python 3 (ipykernel)",
   "language": "python",
   "name": "python3"
  },
  "language_info": {
   "codemirror_mode": {
    "name": "ipython",
    "version": 3
   },
   "file_extension": ".py",
   "mimetype": "text/x-python",
   "name": "python",
   "nbconvert_exporter": "python",
   "pygments_lexer": "ipython3",
   "version": "3.10.9"
  }
 },
 "nbformat": 4,
 "nbformat_minor": 5
}
